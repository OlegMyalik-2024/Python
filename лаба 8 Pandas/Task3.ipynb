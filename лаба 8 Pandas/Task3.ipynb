{
  "cells": [
    {
      "cell_type": "markdown",
      "metadata": {},
      "source": [
        "Импортируйте библиотеку pandas как pd. Загрузите два датасета user_data и logs. \n",
        "Проверьте размер таблицы, типы переменных.\n",
        "\n",
        "# Описание данных\n",
        "\n",
        "user_data:\n",
        "\n",
        "client – идентификатор пользователя\n",
        "\n",
        "premium – является ли клиент премиум\n",
        "\n",
        "age – возраст\n",
        "\n",
        "logs:\n",
        "\n",
        "client – идентификатор пользователя\n",
        "\n",
        "success – результат (успех - 1, нет - 0)\n",
        "\n",
        "platform – платформа\n",
        "\n",
        "time – время в формате Unix\n",
        "\n",
        "\n"
      ]
    },
    {
      "cell_type": "code",
      "execution_count": null,
      "metadata": {},
      "outputs": [],
      "source": [
        "# Импорт библиотеки pandas\n",
        "import pandas as pd\n",
        "# Загрузка датасета user_data в переменную user\n",
        "user = pd.read_csv('3_user_data.csv', sep=',')\n",
        "# Загрузка датасета logs в переменную logs\n",
        "logs = pd.read_csv('3_logs.csv', sep=',')"
      ]
    },
    {
      "cell_type": "code",
      "execution_count": 3,
      "metadata": {},
      "outputs": [
        {
          "data": {
            "text/html": [
              "<div>\n",
              "<style scoped>\n",
              "    .dataframe tbody tr th:only-of-type {\n",
              "        vertical-align: middle;\n",
              "    }\n",
              "\n",
              "    .dataframe tbody tr th {\n",
              "        vertical-align: top;\n",
              "    }\n",
              "\n",
              "    .dataframe thead th {\n",
              "        text-align: right;\n",
              "    }\n",
              "</style>\n",
              "<table border=\"1\" class=\"dataframe\">\n",
              "  <thead>\n",
              "    <tr style=\"text-align: right;\">\n",
              "      <th></th>\n",
              "      <th>client</th>\n",
              "      <th>premium</th>\n",
              "      <th>age</th>\n",
              "    </tr>\n",
              "  </thead>\n",
              "  <tbody>\n",
              "    <tr>\n",
              "      <th>0</th>\n",
              "      <td>46346</td>\n",
              "      <td>False</td>\n",
              "      <td>58</td>\n",
              "    </tr>\n",
              "    <tr>\n",
              "      <th>1</th>\n",
              "      <td>4391</td>\n",
              "      <td>False</td>\n",
              "      <td>55</td>\n",
              "    </tr>\n",
              "    <tr>\n",
              "      <th>2</th>\n",
              "      <td>27372</td>\n",
              "      <td>False</td>\n",
              "      <td>64</td>\n",
              "    </tr>\n",
              "    <tr>\n",
              "      <th>3</th>\n",
              "      <td>11989</td>\n",
              "      <td>False</td>\n",
              "      <td>44</td>\n",
              "    </tr>\n",
              "    <tr>\n",
              "      <th>4</th>\n",
              "      <td>60664</td>\n",
              "      <td>False</td>\n",
              "      <td>49</td>\n",
              "    </tr>\n",
              "  </tbody>\n",
              "</table>\n",
              "</div>"
            ],
            "text/plain": [
              "   client  premium  age\n",
              "0   46346    False   58\n",
              "1    4391    False   55\n",
              "2   27372    False   64\n",
              "3   11989    False   44\n",
              "4   60664    False   49"
            ]
          },
          "execution_count": 3,
          "metadata": {},
          "output_type": "execute_result"
        }
      ],
      "source": [
        "# Просмотр датасета user_data\n",
        "user.head()"
      ]
    },
    {
      "cell_type": "code",
      "execution_count": 4,
      "metadata": {},
      "outputs": [
        {
          "data": {
            "text/html": [
              "<div>\n",
              "<style scoped>\n",
              "    .dataframe tbody tr th:only-of-type {\n",
              "        vertical-align: middle;\n",
              "    }\n",
              "\n",
              "    .dataframe tbody tr th {\n",
              "        vertical-align: top;\n",
              "    }\n",
              "\n",
              "    .dataframe thead th {\n",
              "        text-align: right;\n",
              "    }\n",
              "</style>\n",
              "<table border=\"1\" class=\"dataframe\">\n",
              "  <thead>\n",
              "    <tr style=\"text-align: right;\">\n",
              "      <th></th>\n",
              "      <th>client</th>\n",
              "      <th>success</th>\n",
              "      <th>platform</th>\n",
              "      <th>time</th>\n",
              "    </tr>\n",
              "  </thead>\n",
              "  <tbody>\n",
              "    <tr>\n",
              "      <th>0</th>\n",
              "      <td>40177</td>\n",
              "      <td>True</td>\n",
              "      <td>phone</td>\n",
              "      <td>1585412212</td>\n",
              "    </tr>\n",
              "    <tr>\n",
              "      <th>1</th>\n",
              "      <td>61468</td>\n",
              "      <td>True</td>\n",
              "      <td>phone</td>\n",
              "      <td>1585425658</td>\n",
              "    </tr>\n",
              "    <tr>\n",
              "      <th>2</th>\n",
              "      <td>35604</td>\n",
              "      <td>False</td>\n",
              "      <td>phone</td>\n",
              "      <td>1585459894</td>\n",
              "    </tr>\n",
              "    <tr>\n",
              "      <th>3</th>\n",
              "      <td>9961</td>\n",
              "      <td>True</td>\n",
              "      <td>phone</td>\n",
              "      <td>1585400189</td>\n",
              "    </tr>\n",
              "    <tr>\n",
              "      <th>4</th>\n",
              "      <td>10931</td>\n",
              "      <td>True</td>\n",
              "      <td>computer</td>\n",
              "      <td>1585468629</td>\n",
              "    </tr>\n",
              "  </tbody>\n",
              "</table>\n",
              "</div>"
            ],
            "text/plain": [
              "   client  success  platform        time\n",
              "0   40177     True     phone  1585412212\n",
              "1   61468     True     phone  1585425658\n",
              "2   35604    False     phone  1585459894\n",
              "3    9961     True     phone  1585400189\n",
              "4   10931     True  computer  1585468629"
            ]
          },
          "execution_count": 4,
          "metadata": {},
          "output_type": "execute_result"
        }
      ],
      "source": [
        "# Просмотр датасета logs в переменную logs\n",
        "logs.head()"
      ]
    },
    {
      "cell_type": "markdown",
      "metadata": {},
      "source": [
        "# Задание 1 \n",
        "\n",
        "Вопрос: Сколько уникальных значений принимает переменная platform?"
      ]
    },
    {
      "cell_type": "code",
      "execution_count": 14,
      "metadata": {},
      "outputs": [
        {
          "name": "stdout",
          "output_type": "stream",
          "text": [
            "Переменная patform из датасета logs принимает 3 уникальных значения!\n"
          ]
        }
      ],
      "source": [
        "# Вывод количства уникальных значений переменной platform из датасета logs\n",
        "print(f\"Переменная patform из датасета logs принимает {logs['platform'].nunique()} уникальных значения!\")"
      ]
    },
    {
      "cell_type": "markdown",
      "metadata": {},
      "source": [
        "# Задание 2\n",
        "\n",
        "С какой платформы осуществляется наибольшее количество успешных операций? (success == True)\n",
        "\n",
        "\n",
        "Подсказка: вспомните команды из прошлого занятия \n",
        "\n",
        "Название_датафрейма.query('success == True').platform.value_counts()\n",
        "\n",
        "а еще команда idxmax()"
      ]
    },
    {
      "cell_type": "code",
      "execution_count": null,
      "metadata": {},
      "outputs": [
        {
          "name": "stdout",
          "output_type": "stream",
          "text": [
            "Наибольшее количество успешных операций осущетвляется с платформы 'phone' в количестве 2019 операций!\n"
          ]
        }
      ],
      "source": [
        "# Вывод платформы с которой осуществлялось больше всего успешных операций\n",
        "print(f\"Наибольшее количество успешных операций осущетвляется с платформы \\\n",
        "'{logs.query('success==True').platform.value_counts().idxmax()}' в количестве \\\n",
        "{logs.query('success==True').platform.value_counts().max()} операций!\")\n"
      ]
    },
    {
      "cell_type": "markdown",
      "metadata": {},
      "source": [
        "# Задание 3\n",
        "\n",
        "Какой клиент совершил больше всего успешных операций?\n",
        "\n",
        "Внимание: Несколько пользователей могли совершить одинаковое число успешных действий\n",
        "\n",
        "Подсказка: вспомните команды из прошлого урока \n",
        "\n",
        "Название_датафрейма.query('success == True').client.value_counts()\n",
        "\n",
        "также поможет команда max()"
      ]
    },
    {
      "cell_type": "code",
      "execution_count": 47,
      "metadata": {},
      "outputs": [
        {
          "name": "stdout",
          "output_type": "stream",
          "text": [
            "Больше всего успешных операций в количестве 41-ой операции были совершены следующими клиентами:\n",
            "Index([28719, 52870, 61468, 61473, 12179, 82563, 36165, 92584, 78349], dtype='int64', name='client')\n"
          ]
        }
      ],
      "source": [
        "# Вывод клиентов, которые совершили больше всего успешных операций\n",
        "success_counts=logs.loc[logs.success==True].client.value_counts()\n",
        "max_num=success_counts.max()\n",
        "max_success_users=success_counts.loc[success_counts==max_num]\n",
        "print(f\"Больше всего успешных операций в количестве {max_num}-ой операции были совершены следующими клиентами:\\n\\\n",
        "{max_success_users.index}\")\n"
      ]
    },
    {
      "cell_type": "markdown",
      "metadata": {},
      "source": [
        "# Задание 4\n",
        "\n",
        "Объедините два датафрейма в один по столбцу 'client'\n",
        "\n",
        "Подсказка: Название_датафрейма_1.merge(Название_датафрейма_2, on='client')"
      ]
    },
    {
      "cell_type": "code",
      "execution_count": 58,
      "metadata": {},
      "outputs": [
        {
          "name": "stdout",
          "output_type": "stream",
          "text": [
            "Объединение датафреймов logs и user_data в один по столбцу client имеет следующий вид:\n"
          ]
        },
        {
          "data": {
            "text/html": [
              "<div>\n",
              "<style scoped>\n",
              "    .dataframe tbody tr th:only-of-type {\n",
              "        vertical-align: middle;\n",
              "    }\n",
              "\n",
              "    .dataframe tbody tr th {\n",
              "        vertical-align: top;\n",
              "    }\n",
              "\n",
              "    .dataframe thead th {\n",
              "        text-align: right;\n",
              "    }\n",
              "</style>\n",
              "<table border=\"1\" class=\"dataframe\">\n",
              "  <thead>\n",
              "    <tr style=\"text-align: right;\">\n",
              "      <th></th>\n",
              "      <th>client</th>\n",
              "      <th>success</th>\n",
              "      <th>platform</th>\n",
              "      <th>time</th>\n",
              "      <th>premium</th>\n",
              "      <th>age</th>\n",
              "    </tr>\n",
              "  </thead>\n",
              "  <tbody>\n",
              "    <tr>\n",
              "      <th>0</th>\n",
              "      <td>61468</td>\n",
              "      <td>True</td>\n",
              "      <td>phone</td>\n",
              "      <td>1585425658</td>\n",
              "      <td>False</td>\n",
              "      <td>25</td>\n",
              "    </tr>\n",
              "    <tr>\n",
              "      <th>1</th>\n",
              "      <td>35604</td>\n",
              "      <td>False</td>\n",
              "      <td>phone</td>\n",
              "      <td>1585459894</td>\n",
              "      <td>True</td>\n",
              "      <td>65</td>\n",
              "    </tr>\n",
              "    <tr>\n",
              "      <th>2</th>\n",
              "      <td>10931</td>\n",
              "      <td>True</td>\n",
              "      <td>computer</td>\n",
              "      <td>1585468629</td>\n",
              "      <td>False</td>\n",
              "      <td>28</td>\n",
              "    </tr>\n",
              "    <tr>\n",
              "      <th>3</th>\n",
              "      <td>41928</td>\n",
              "      <td>True</td>\n",
              "      <td>phone</td>\n",
              "      <td>1585446772</td>\n",
              "      <td>False</td>\n",
              "      <td>46</td>\n",
              "    </tr>\n",
              "    <tr>\n",
              "      <th>4</th>\n",
              "      <td>48925</td>\n",
              "      <td>True</td>\n",
              "      <td>phone</td>\n",
              "      <td>1585467880</td>\n",
              "      <td>False</td>\n",
              "      <td>33</td>\n",
              "    </tr>\n",
              "    <tr>\n",
              "      <th>...</th>\n",
              "      <td>...</td>\n",
              "      <td>...</td>\n",
              "      <td>...</td>\n",
              "      <td>...</td>\n",
              "      <td>...</td>\n",
              "      <td>...</td>\n",
              "    </tr>\n",
              "    <tr>\n",
              "      <th>3434</th>\n",
              "      <td>92584</td>\n",
              "      <td>True</td>\n",
              "      <td>computer</td>\n",
              "      <td>1585408896</td>\n",
              "      <td>False</td>\n",
              "      <td>28</td>\n",
              "    </tr>\n",
              "    <tr>\n",
              "      <th>3435</th>\n",
              "      <td>95152</td>\n",
              "      <td>True</td>\n",
              "      <td>computer</td>\n",
              "      <td>1585420263</td>\n",
              "      <td>False</td>\n",
              "      <td>67</td>\n",
              "    </tr>\n",
              "    <tr>\n",
              "      <th>3436</th>\n",
              "      <td>64496</td>\n",
              "      <td>False</td>\n",
              "      <td>computer</td>\n",
              "      <td>1585459072</td>\n",
              "      <td>False</td>\n",
              "      <td>66</td>\n",
              "    </tr>\n",
              "    <tr>\n",
              "      <th>3437</th>\n",
              "      <td>8967</td>\n",
              "      <td>True</td>\n",
              "      <td>phone</td>\n",
              "      <td>1585465121</td>\n",
              "      <td>False</td>\n",
              "      <td>33</td>\n",
              "    </tr>\n",
              "    <tr>\n",
              "      <th>3438</th>\n",
              "      <td>40921</td>\n",
              "      <td>True</td>\n",
              "      <td>phone</td>\n",
              "      <td>1585437692</td>\n",
              "      <td>False</td>\n",
              "      <td>45</td>\n",
              "    </tr>\n",
              "  </tbody>\n",
              "</table>\n",
              "<p>3439 rows × 6 columns</p>\n",
              "</div>"
            ],
            "text/plain": [
              "      client  success  platform        time  premium  age\n",
              "0      61468     True     phone  1585425658    False   25\n",
              "1      35604    False     phone  1585459894     True   65\n",
              "2      10931     True  computer  1585468629    False   28\n",
              "3      41928     True     phone  1585446772    False   46\n",
              "4      48925     True     phone  1585467880    False   33\n",
              "...      ...      ...       ...         ...      ...  ...\n",
              "3434   92584     True  computer  1585408896    False   28\n",
              "3435   95152     True  computer  1585420263    False   67\n",
              "3436   64496    False  computer  1585459072    False   66\n",
              "3437    8967     True     phone  1585465121    False   33\n",
              "3438   40921     True     phone  1585437692    False   45\n",
              "\n",
              "[3439 rows x 6 columns]"
            ]
          },
          "execution_count": 58,
          "metadata": {},
          "output_type": "execute_result"
        }
      ],
      "source": [
        "# Объединение датафреймов logs и user_data в один по столбцу client\n",
        "print(f\"Объединение датафреймов logs и user_data в один по столбцу client имеет следующий вид:\")\n",
        "df=logs.merge(user, on='client')\n",
        "df"
      ]
    },
    {
      "cell_type": "markdown",
      "metadata": {},
      "source": [
        "# Задание 5\n",
        "\n",
        "Какая платформа наиболее популярна среди премиумных клиентов? (premium == True)"
      ]
    },
    {
      "cell_type": "code",
      "execution_count": 70,
      "metadata": {},
      "outputs": [
        {
          "name": "stdout",
          "output_type": "stream",
          "text": [
            "Самой популярной платформой среди премиумных клиентов является платформа 'phone', которую использовали 246 раз.\n"
          ]
        }
      ],
      "source": [
        "# Вывод платформы, которая является самой популярной сред премиумных клиентов\n",
        "print(f\"Самой популярной платформой среди премиумных клиентов является платформа \\\n",
        "'{df.query('premium==True').platform.value_counts().idxmax()}', которую использовали \\\n",
        "{df.query('premium==True').platform.value_counts().max()} раз.\")"
      ]
    },
    {
      "cell_type": "markdown",
      "metadata": {},
      "source": [
        "# Задание 6\n",
        "\n",
        "Сделайте выборку для премиальных клиентов (premium` == True) и для непримеальных.\n",
        "\n",
        "На основе этих выборок постройте графики, первый - отображающий популярность использования различных платформ (столбец \"platform\") у премиальных пользователей и второй - платформы сради непримиальных пользователей. \n",
        "\n",
        "Подсказка: используйте sns.countplot(x=название_выборки[\"столбец\"])"
      ]
    },
    {
      "cell_type": "code",
      "execution_count": 72,
      "metadata": {},
      "outputs": [
        {
          "data": {
            "text/html": [
              "<div>\n",
              "<style scoped>\n",
              "    .dataframe tbody tr th:only-of-type {\n",
              "        vertical-align: middle;\n",
              "    }\n",
              "\n",
              "    .dataframe tbody tr th {\n",
              "        vertical-align: top;\n",
              "    }\n",
              "\n",
              "    .dataframe thead th {\n",
              "        text-align: right;\n",
              "    }\n",
              "</style>\n",
              "<table border=\"1\" class=\"dataframe\">\n",
              "  <thead>\n",
              "    <tr style=\"text-align: right;\">\n",
              "      <th></th>\n",
              "      <th>client</th>\n",
              "      <th>success</th>\n",
              "      <th>platform</th>\n",
              "      <th>time</th>\n",
              "      <th>premium</th>\n",
              "      <th>age</th>\n",
              "    </tr>\n",
              "  </thead>\n",
              "  <tbody>\n",
              "    <tr>\n",
              "      <th>1</th>\n",
              "      <td>35604</td>\n",
              "      <td>False</td>\n",
              "      <td>phone</td>\n",
              "      <td>1585459894</td>\n",
              "      <td>True</td>\n",
              "      <td>65</td>\n",
              "    </tr>\n",
              "    <tr>\n",
              "      <th>8</th>\n",
              "      <td>11983</td>\n",
              "      <td>True</td>\n",
              "      <td>phone</td>\n",
              "      <td>1585459511</td>\n",
              "      <td>True</td>\n",
              "      <td>68</td>\n",
              "    </tr>\n",
              "    <tr>\n",
              "      <th>11</th>\n",
              "      <td>99308</td>\n",
              "      <td>True</td>\n",
              "      <td>computer</td>\n",
              "      <td>1585409409</td>\n",
              "      <td>True</td>\n",
              "      <td>38</td>\n",
              "    </tr>\n",
              "    <tr>\n",
              "      <th>18</th>\n",
              "      <td>49625</td>\n",
              "      <td>False</td>\n",
              "      <td>phone</td>\n",
              "      <td>1585447789</td>\n",
              "      <td>True</td>\n",
              "      <td>65</td>\n",
              "    </tr>\n",
              "    <tr>\n",
              "      <th>23</th>\n",
              "      <td>53978</td>\n",
              "      <td>True</td>\n",
              "      <td>computer</td>\n",
              "      <td>1585408637</td>\n",
              "      <td>True</td>\n",
              "      <td>46</td>\n",
              "    </tr>\n",
              "    <tr>\n",
              "      <th>...</th>\n",
              "      <td>...</td>\n",
              "      <td>...</td>\n",
              "      <td>...</td>\n",
              "      <td>...</td>\n",
              "      <td>...</td>\n",
              "      <td>...</td>\n",
              "    </tr>\n",
              "    <tr>\n",
              "      <th>3366</th>\n",
              "      <td>20278</td>\n",
              "      <td>True</td>\n",
              "      <td>computer</td>\n",
              "      <td>1585456706</td>\n",
              "      <td>True</td>\n",
              "      <td>65</td>\n",
              "    </tr>\n",
              "    <tr>\n",
              "      <th>3394</th>\n",
              "      <td>78455</td>\n",
              "      <td>True</td>\n",
              "      <td>phone</td>\n",
              "      <td>1585459854</td>\n",
              "      <td>True</td>\n",
              "      <td>23</td>\n",
              "    </tr>\n",
              "    <tr>\n",
              "      <th>3396</th>\n",
              "      <td>57026</td>\n",
              "      <td>True</td>\n",
              "      <td>computer</td>\n",
              "      <td>1585438120</td>\n",
              "      <td>True</td>\n",
              "      <td>62</td>\n",
              "    </tr>\n",
              "    <tr>\n",
              "      <th>3417</th>\n",
              "      <td>2864</td>\n",
              "      <td>True</td>\n",
              "      <td>phone</td>\n",
              "      <td>1585459818</td>\n",
              "      <td>True</td>\n",
              "      <td>41</td>\n",
              "    </tr>\n",
              "    <tr>\n",
              "      <th>3430</th>\n",
              "      <td>72908</td>\n",
              "      <td>True</td>\n",
              "      <td>phone</td>\n",
              "      <td>1585416689</td>\n",
              "      <td>True</td>\n",
              "      <td>66</td>\n",
              "    </tr>\n",
              "  </tbody>\n",
              "</table>\n",
              "<p>420 rows × 6 columns</p>\n",
              "</div>"
            ],
            "text/plain": [
              "      client  success  platform        time  premium  age\n",
              "1      35604    False     phone  1585459894     True   65\n",
              "8      11983     True     phone  1585459511     True   68\n",
              "11     99308     True  computer  1585409409     True   38\n",
              "18     49625    False     phone  1585447789     True   65\n",
              "23     53978     True  computer  1585408637     True   46\n",
              "...      ...      ...       ...         ...      ...  ...\n",
              "3366   20278     True  computer  1585456706     True   65\n",
              "3394   78455     True     phone  1585459854     True   23\n",
              "3396   57026     True  computer  1585438120     True   62\n",
              "3417    2864     True     phone  1585459818     True   41\n",
              "3430   72908     True     phone  1585416689     True   66\n",
              "\n",
              "[420 rows x 6 columns]"
            ]
          },
          "execution_count": 72,
          "metadata": {},
          "output_type": "execute_result"
        }
      ],
      "source": [
        "# Выборка для премиальных клиентов\n",
        "premium=df.query('premium==True')\n",
        "premium"
      ]
    },
    {
      "cell_type": "code",
      "execution_count": 73,
      "metadata": {},
      "outputs": [
        {
          "data": {
            "text/html": [
              "<div>\n",
              "<style scoped>\n",
              "    .dataframe tbody tr th:only-of-type {\n",
              "        vertical-align: middle;\n",
              "    }\n",
              "\n",
              "    .dataframe tbody tr th {\n",
              "        vertical-align: top;\n",
              "    }\n",
              "\n",
              "    .dataframe thead th {\n",
              "        text-align: right;\n",
              "    }\n",
              "</style>\n",
              "<table border=\"1\" class=\"dataframe\">\n",
              "  <thead>\n",
              "    <tr style=\"text-align: right;\">\n",
              "      <th></th>\n",
              "      <th>client</th>\n",
              "      <th>success</th>\n",
              "      <th>platform</th>\n",
              "      <th>time</th>\n",
              "      <th>premium</th>\n",
              "      <th>age</th>\n",
              "    </tr>\n",
              "  </thead>\n",
              "  <tbody>\n",
              "    <tr>\n",
              "      <th>0</th>\n",
              "      <td>61468</td>\n",
              "      <td>True</td>\n",
              "      <td>phone</td>\n",
              "      <td>1585425658</td>\n",
              "      <td>False</td>\n",
              "      <td>25</td>\n",
              "    </tr>\n",
              "    <tr>\n",
              "      <th>2</th>\n",
              "      <td>10931</td>\n",
              "      <td>True</td>\n",
              "      <td>computer</td>\n",
              "      <td>1585468629</td>\n",
              "      <td>False</td>\n",
              "      <td>28</td>\n",
              "    </tr>\n",
              "    <tr>\n",
              "      <th>3</th>\n",
              "      <td>41928</td>\n",
              "      <td>True</td>\n",
              "      <td>phone</td>\n",
              "      <td>1585446772</td>\n",
              "      <td>False</td>\n",
              "      <td>46</td>\n",
              "    </tr>\n",
              "    <tr>\n",
              "      <th>4</th>\n",
              "      <td>48925</td>\n",
              "      <td>True</td>\n",
              "      <td>phone</td>\n",
              "      <td>1585467880</td>\n",
              "      <td>False</td>\n",
              "      <td>33</td>\n",
              "    </tr>\n",
              "    <tr>\n",
              "      <th>5</th>\n",
              "      <td>32167</td>\n",
              "      <td>True</td>\n",
              "      <td>computer</td>\n",
              "      <td>1585457972</td>\n",
              "      <td>False</td>\n",
              "      <td>42</td>\n",
              "    </tr>\n",
              "    <tr>\n",
              "      <th>...</th>\n",
              "      <td>...</td>\n",
              "      <td>...</td>\n",
              "      <td>...</td>\n",
              "      <td>...</td>\n",
              "      <td>...</td>\n",
              "      <td>...</td>\n",
              "    </tr>\n",
              "    <tr>\n",
              "      <th>3434</th>\n",
              "      <td>92584</td>\n",
              "      <td>True</td>\n",
              "      <td>computer</td>\n",
              "      <td>1585408896</td>\n",
              "      <td>False</td>\n",
              "      <td>28</td>\n",
              "    </tr>\n",
              "    <tr>\n",
              "      <th>3435</th>\n",
              "      <td>95152</td>\n",
              "      <td>True</td>\n",
              "      <td>computer</td>\n",
              "      <td>1585420263</td>\n",
              "      <td>False</td>\n",
              "      <td>67</td>\n",
              "    </tr>\n",
              "    <tr>\n",
              "      <th>3436</th>\n",
              "      <td>64496</td>\n",
              "      <td>False</td>\n",
              "      <td>computer</td>\n",
              "      <td>1585459072</td>\n",
              "      <td>False</td>\n",
              "      <td>66</td>\n",
              "    </tr>\n",
              "    <tr>\n",
              "      <th>3437</th>\n",
              "      <td>8967</td>\n",
              "      <td>True</td>\n",
              "      <td>phone</td>\n",
              "      <td>1585465121</td>\n",
              "      <td>False</td>\n",
              "      <td>33</td>\n",
              "    </tr>\n",
              "    <tr>\n",
              "      <th>3438</th>\n",
              "      <td>40921</td>\n",
              "      <td>True</td>\n",
              "      <td>phone</td>\n",
              "      <td>1585437692</td>\n",
              "      <td>False</td>\n",
              "      <td>45</td>\n",
              "    </tr>\n",
              "  </tbody>\n",
              "</table>\n",
              "<p>3019 rows × 6 columns</p>\n",
              "</div>"
            ],
            "text/plain": [
              "      client  success  platform        time  premium  age\n",
              "0      61468     True     phone  1585425658    False   25\n",
              "2      10931     True  computer  1585468629    False   28\n",
              "3      41928     True     phone  1585446772    False   46\n",
              "4      48925     True     phone  1585467880    False   33\n",
              "5      32167     True  computer  1585457972    False   42\n",
              "...      ...      ...       ...         ...      ...  ...\n",
              "3434   92584     True  computer  1585408896    False   28\n",
              "3435   95152     True  computer  1585420263    False   67\n",
              "3436   64496    False  computer  1585459072    False   66\n",
              "3437    8967     True     phone  1585465121    False   33\n",
              "3438   40921     True     phone  1585437692    False   45\n",
              "\n",
              "[3019 rows x 6 columns]"
            ]
          },
          "execution_count": 73,
          "metadata": {},
          "output_type": "execute_result"
        }
      ],
      "source": [
        "# Выборка для непремиальных клиентов\n",
        "none_premium=df.query('premium==False')\n",
        "none_premium"
      ]
    },
    {
      "cell_type": "code",
      "execution_count": 77,
      "metadata": {},
      "outputs": [
        {
          "data": {
            "text/plain": [
              "<Axes: xlabel='platform', ylabel='count'>"
            ]
          },
          "execution_count": 77,
          "metadata": {},
          "output_type": "execute_result"
        },
        {
          "data": {
            "image/png": "[encoded data removed]",
            "text/plain": [
              "<Figure size 640x480 with 1 Axes>"
            ]
          },
          "metadata": {},
          "output_type": "display_data"
        }
      ],
      "source": [
        "# Импорт библиотеки seaborn\n",
        "import seaborn as sns\n",
        "# Построение графика использования платформ среди премиальных пользователей\n",
        "sns.countplot(x=premium[\"platform\"])"
      ]
    },
    {
      "cell_type": "code",
      "execution_count": 78,
      "metadata": {},
      "outputs": [
        {
          "data": {
            "text/plain": [
              "<Axes: xlabel='platform', ylabel='count'>"
            ]
          },
          "execution_count": 78,
          "metadata": {},
          "output_type": "execute_result"
        },
        {
          "data": {
            "image/png": "[encoded data removed]",
            "text/plain": [
              "<Figure size 640x480 with 1 Axes>"
            ]
          },
          "metadata": {},
          "output_type": "display_data"
        }
      ],
      "source": [
        "# Построение графика использования платформ среди непремиальных пользователей\n",
        "sns.countplot(x=none_premium[\"platform\"])"
      ]
    },
    {
      "cell_type": "markdown",
      "metadata": {},
      "source": [
        "# Задание 7\n",
        "\n",
        "Визуализируйте число успешных операций, сделанных на платформе computer, в зависимости от возраста, используя sns.countplot. По оси x – возраст, y – число успешных операций. \n",
        "\n",
        "Если размер графика получается небольшим, можно добавить plt.figure(figsize=(12, 8)) в начало соответствующей ячейки.\n",
        "\n",
        "Подсказка: sns.countplot(data=Название_Датафрейма.loc[(Название_Датафрейма.platform == 'computer')\n",
        "                                   & (Название_Датафрейма.success == True)], x='age')"
      ]
    },
    {
      "cell_type": "code",
      "execution_count": 94,
      "metadata": {},
      "outputs": [
        {
          "data": {
            "image/png": "[encoded data removed]",
            "text/plain": [
              "<Figure size 1500x600 with 1 Axes>"
            ]
          },
          "metadata": {},
          "output_type": "display_data"
        }
      ],
      "source": [
        "# Импортируем библиотеку matplotlib.pyplot\n",
        "import matplotlib.pyplot as plt\n",
        "# Изменяем размер графика\n",
        "plt.figure(figsize=(15,6))\n",
        "# Визуализируем число успешных операций, сделанных на платформе computer, в зависимости от возраста, используя sns.countplot.\n",
        "# По оси x - возраст, по оси y - число успешных операций.\n",
        "sns.countplot(x='age',data=premium.loc[(premium.platform=='computer')&(premium.success==True)])\n",
        "# Удаляем правую и верхнюю границу графика (по умолчанию)\n",
        "sns.despine()\n"
      ]
    }
  ],
  "metadata": {
    "kernelspec": {
      "display_name": "Python 3",
      "language": "python",
      "name": "python3"
    },
    "language_info": {
      "codemirror_mode": {
        "name": "ipython",
        "version": 3
      },
      "file_extension": ".py",
      "mimetype": "text/x-python",
      "name": "python",
      "nbconvert_exporter": "python",
      "pygments_lexer": "ipython3",
      "version": "3.13.2"
    }
  },
  "nbformat": 4,
  "nbformat_minor": 4
}
