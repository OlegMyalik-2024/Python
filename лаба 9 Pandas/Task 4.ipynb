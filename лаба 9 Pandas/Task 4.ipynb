{
 "cells": [
  {
   "cell_type": "markdown",
   "metadata": {},
   "source": [
    "**1. Имеются следующие данные о транзакциях в период с 01.12.2010 по 12.09.2011:**\n",
    "\n",
    "* InvoiceNo — номер транзакции\n",
    "* StockCode — код товара\n",
    "* Description — описание товара\n",
    "* Quantity — количество единиц товара, добавленных в заказ\n",
    "* InvoiceDate — дата транзакции \n",
    "* UnitPrice — цена за единицу товара\n",
    "* CustomerID — id клиента\n",
    "* Country — страна, где проживает клиент\n",
    "\n",
    "**В данной задаче ссылка для считывания данных лежит в переменной path_to_file.\n",
    "Импортируйте пандас и прочитайте данные с кодировкой ISO-8859-1. Запишите полученный датафрейм в retail, а названия колонок сохраните в переменную retail_columns.**"
   ]
  },
  {
   "cell_type": "code",
   "execution_count": 55,
   "metadata": {},
   "outputs": [],
   "source": [
    "#Импорт библиотеки pandas\n",
    "import pandas as pd\n",
    "#Путь к файлу data.csv\n",
    "path_to_file = 'data.csv'\n",
    "#Чтение файла data.csv с кодировкой ISO-8859-1 и записью его в переменную retail\n",
    "retail = pd.read_csv(path_to_file, encoding='ISO-8859-1')\n",
    "#Запись списка столбцов в переменную retail_columns\n",
    "retail_columns=retail.columns.to_list()"
   ]
  },
  {
   "cell_type": "markdown",
   "metadata": {},
   "source": [
    "**2. Проверьте, встречаются ли в данных повторяющиеся наблюдения, и в качестве ответа укажите их количество. Если они есть, то удалите их из retail.**\n",
    "\n",
    "Вам понадобится len(название_колонки) и drop_duplicates()"
   ]
  },
  {
   "cell_type": "code",
   "execution_count": 56,
   "metadata": {},
   "outputs": [
    {
     "name": "stdout",
     "output_type": "stream",
     "text": [
      "В данных встречается 5268 повторяющихся наблюдений!!!\n"
     ]
    }
   ],
   "source": [
    "print(f\"В данных встречается {len(retail)-len(retail.drop_duplicates())} повторяющихся наблюдений!!!\")"
   ]
  },
  {
   "cell_type": "markdown",
   "metadata": {},
   "source": [
    "**3. Данные содержат в себе записи как об успешных транзакциях, так и об отмененных. Если пользователь отменил заказ, в начале номера транзакции (InvoiceNo) ставится C (canceled).**\n",
    "\n",
    "**Сколько всего транзакций отменили пользователи? Каждый отдельный тип продукта считайте за отдельную транзакцию - уникальные номера считать не надо.**\n",
    "\n",
    "Прежде чем начать, попробуйте метод retail.InvoiceNo.str[0]\n",
    "\n",
    "Далее используйте метод .unique()\n",
    "\n",
    "И сделайте выбоку по retail.loc[retail.InvoiceNo.str[0] == 'C'].shape"
   ]
  },
  {
   "cell_type": "code",
   "execution_count": 57,
   "metadata": {},
   "outputs": [
    {
     "name": "stdout",
     "output_type": "stream",
     "text": [
      "Пользователи отменили всего 9288 транзакций!!!\n"
     ]
    }
   ],
   "source": [
    "print(f\"Пользователи отменили всего {len(retail.loc[retail['InvoiceNo'].str[0] == 'C'])} транзакций!!!\")"
   ]
  },
  {
   "cell_type": "markdown",
   "metadata": {},
   "source": [
    "4.Теперь отфильтруйте данные и оставьте в retail только те заказы, где Quantity>0. В качестве ответа укажите число оставшихся строк."
   ]
  },
  {
   "cell_type": "code",
   "execution_count": 63,
   "metadata": {},
   "outputs": [
    {
     "name": "stdout",
     "output_type": "stream",
     "text": [
      "Число оставшихся строк равно 531285 !!!\n"
     ]
    }
   ],
   "source": [
    "#Фильтруем данные\n",
    "retail=retail.loc[retail['Quantity']>0]\n",
    "#Выводим заказы, в которых количество Quantity>0 \n",
    "print(f\"Число оставшихся строк равно {len(retail.loc[retail['Quantity']>0])} !!!\")"
   ]
  },
  {
   "cell_type": "markdown",
   "metadata": {},
   "source": [
    "**5.Посчитайте число заказов для каждого пользователя (CustomerID) из Германии (Germany). Оставьте только тех, кто совершил более N транзакций (InvoiceNo), где N – 80% процентиль. Запишите полученные id пользователей в germany_top (не весь датафрейм, только id).**\n",
    "\n",
    "Отфильтрованные данные записаны в retail. Идентификатор заказа – InvoiceNo. Для каждого заказа в данных может встречаться более 1 строки.\n",
    "\n",
    "**Подсказка:**\n",
    "1. Начните с выборки retail.Country == 'Germany', группировки по 'CustomerID' и агрегации total_invoices=('InvoiceNo', 'nunique')\n",
    "2. Далее из полученой выборки из предыдущего шага выподните метод: название_выборки.столбец.quantile(0.8)\n",
    "3. Запишите полученные id пользователей в germany_top"
   ]
  },
  {
   "cell_type": "code",
   "execution_count": 59,
   "metadata": {},
   "outputs": [
    {
     "data": {
      "application/vnd.microsoft.datawrangler.viewer.v0+json": {
       "columns": [
        {
         "name": "index",
         "rawType": "int64",
         "type": "integer"
        },
        {
         "name": "CustomerID",
         "rawType": "float64",
         "type": "float"
        },
        {
         "name": "total_invoices",
         "rawType": "int64",
         "type": "integer"
        }
       ],
       "conversionMethod": "pd.DataFrame",
       "ref": "b9a54065-8690-40f7-b808-193a2813b7c9",
       "rows": [
        [
         "0",
         "12426.0",
         "1"
        ],
        [
         "1",
         "12427.0",
         "3"
        ],
        [
         "2",
         "12468.0",
         "2"
        ],
        [
         "3",
         "12471.0",
         "30"
        ],
        [
         "4",
         "12472.0",
         "7"
        ]
       ],
       "shape": {
        "columns": 2,
        "rows": 5
       }
      },
      "text/html": [
       "<div>\n",
       "<style scoped>\n",
       "    .dataframe tbody tr th:only-of-type {\n",
       "        vertical-align: middle;\n",
       "    }\n",
       "\n",
       "    .dataframe tbody tr th {\n",
       "        vertical-align: top;\n",
       "    }\n",
       "\n",
       "    .dataframe thead th {\n",
       "        text-align: right;\n",
       "    }\n",
       "</style>\n",
       "<table border=\"1\" class=\"dataframe\">\n",
       "  <thead>\n",
       "    <tr style=\"text-align: right;\">\n",
       "      <th></th>\n",
       "      <th>CustomerID</th>\n",
       "      <th>total_invoices</th>\n",
       "    </tr>\n",
       "  </thead>\n",
       "  <tbody>\n",
       "    <tr>\n",
       "      <th>0</th>\n",
       "      <td>12426.0</td>\n",
       "      <td>1</td>\n",
       "    </tr>\n",
       "    <tr>\n",
       "      <th>1</th>\n",
       "      <td>12427.0</td>\n",
       "      <td>3</td>\n",
       "    </tr>\n",
       "    <tr>\n",
       "      <th>2</th>\n",
       "      <td>12468.0</td>\n",
       "      <td>2</td>\n",
       "    </tr>\n",
       "    <tr>\n",
       "      <th>3</th>\n",
       "      <td>12471.0</td>\n",
       "      <td>30</td>\n",
       "    </tr>\n",
       "    <tr>\n",
       "      <th>4</th>\n",
       "      <td>12472.0</td>\n",
       "      <td>7</td>\n",
       "    </tr>\n",
       "  </tbody>\n",
       "</table>\n",
       "</div>"
      ],
      "text/plain": [
       "   CustomerID  total_invoices\n",
       "0     12426.0               1\n",
       "1     12427.0               3\n",
       "2     12468.0               2\n",
       "3     12471.0              30\n",
       "4     12472.0               7"
      ]
     },
     "execution_count": 59,
     "metadata": {},
     "output_type": "execute_result"
    }
   ],
   "source": [
    "#Выбираем пользователей из Германии, группируем их по CustomerID и выполняем агрегацию\n",
    "invoice_dist=retail.loc[retail['Country']=='Germany'].groupby('CustomerID', as_index=False)\\\n",
    "    .agg(total_invoices=('InvoiceNo', 'nunique'))\n",
    "invoice_dist.head()"
   ]
  },
  {
   "cell_type": "code",
   "execution_count": 60,
   "metadata": {},
   "outputs": [
    {
     "data": {
      "text/plain": [
       "np.float64(7.0)"
      ]
     },
     "execution_count": 60,
     "metadata": {},
     "output_type": "execute_result"
    }
   ],
   "source": [
    "#Находим пользователей у которых процентиль равен 80%\n",
    "N=invoice_dist.total_invoices.quantile(0.8)\n",
    "N"
   ]
  },
  {
   "cell_type": "code",
   "execution_count": 61,
   "metadata": {},
   "outputs": [
    {
     "data": {
      "text/plain": [
       "3     12471.0\n",
       "6     12474.0\n",
       "8     12476.0\n",
       "12    12481.0\n",
       "16    12500.0\n",
       "26    12524.0\n",
       "37    12569.0\n",
       "44    12600.0\n",
       "51    12619.0\n",
       "52    12621.0\n",
       "56    12626.0\n",
       "64    12647.0\n",
       "69    12662.0\n",
       "77    12705.0\n",
       "78    12708.0\n",
       "79    12709.0\n",
       "81    12712.0\n",
       "83    12720.0\n",
       "Name: CustomerID, dtype: float64"
      ]
     },
     "execution_count": 61,
     "metadata": {},
     "output_type": "execute_result"
    }
   ],
   "source": [
    "#Выводим id пользователей\n",
    "germany_top=invoice_dist.loc[invoice_dist['total_invoices']>N]['CustomerID']\n",
    "germany_top"
   ]
  },
  {
   "cell_type": "markdown",
   "metadata": {},
   "source": [
    "**6. Используя объект с id пользователей (germany_top), полученный на предыдущем шаге, отфильтруйте наблюдения и оставьте в данных записи только по интересующим нас юзерам. Результирующий датафрейм запишите в top_retail_germany.**\n",
    "\n",
    "Датафрейм записан в retail, нужные id пользователей – в germany_top.\n",
    "\n",
    "**Подсказка**\n",
    "Попробуйте использовать top_retail_germany = retail.loc[retail.CustomerID.isin(germany_top)]"
   ]
  },
  {
   "cell_type": "code",
   "execution_count": null,
   "metadata": {},
   "outputs": [
    {
     "data": {
      "application/vnd.microsoft.datawrangler.viewer.v0+json": {
       "columns": [
        {
         "name": "index",
         "rawType": "int64",
         "type": "integer"
        },
        {
         "name": "InvoiceNo",
         "rawType": "object",
         "type": "string"
        },
        {
         "name": "StockCode",
         "rawType": "object",
         "type": "string"
        },
        {
         "name": "Description",
         "rawType": "object",
         "type": "string"
        },
        {
         "name": "Quantity",
         "rawType": "int64",
         "type": "integer"
        },
        {
         "name": "InvoiceDate",
         "rawType": "object",
         "type": "string"
        },
        {
         "name": "UnitPrice",
         "rawType": "float64",
         "type": "float"
        },
        {
         "name": "CustomerID",
         "rawType": "float64",
         "type": "float"
        },
        {
         "name": "Country",
         "rawType": "object",
         "type": "string"
        }
       ],
       "conversionMethod": "pd.DataFrame",
       "ref": "a70fbe8f-a501-4c54-ba2f-3f01f1df4b31",
       "rows": [
        [
         "1109",
         "536527",
         "22809",
         "SET OF 6 T-LIGHTS SANTA",
         "6",
         "12/1/2010 13:04",
         "2.95",
         "12662.0",
         "Germany"
        ],
        [
         "1110",
         "536527",
         "84347",
         "ROTATING SILVER ANGELS T-LIGHT HLDR",
         "6",
         "12/1/2010 13:04",
         "2.55",
         "12662.0",
         "Germany"
        ],
        [
         "1111",
         "536527",
         "84945",
         "MULTI COLOUR SILVER T-LIGHT HOLDER",
         "12",
         "12/1/2010 13:04",
         "0.85",
         "12662.0",
         "Germany"
        ],
        [
         "1112",
         "536527",
         "22242",
         "5 HOOK HANGER MAGIC TOADSTOOL",
         "12",
         "12/1/2010 13:04",
         "1.65",
         "12662.0",
         "Germany"
        ],
        [
         "1113",
         "536527",
         "22244",
         "3 HOOK HANGER MAGIC GARDEN",
         "12",
         "12/1/2010 13:04",
         "1.95",
         "12662.0",
         "Germany"
        ],
        [
         "1114",
         "536527",
         "22243",
         "5 HOOK HANGER RED MAGIC TOADSTOOL",
         "12",
         "12/1/2010 13:04",
         "1.65",
         "12662.0",
         "Germany"
        ],
        [
         "1115",
         "536527",
         "47421",
         "ASSORTED COLOUR LIZARD SUCTION HOOK",
         "24",
         "12/1/2010 13:04",
         "0.42",
         "12662.0",
         "Germany"
        ],
        [
         "1116",
         "536527",
         "20712",
         "JUMBO BAG WOODLAND ANIMALS",
         "10",
         "12/1/2010 13:04",
         "1.95",
         "12662.0",
         "Germany"
        ],
        [
         "1117",
         "536527",
         "20713",
         "JUMBO BAG OWLS",
         "10",
         "12/1/2010 13:04",
         "1.95",
         "12662.0",
         "Germany"
        ],
        [
         "1118",
         "536527",
         "22837",
         "HOT WATER BOTTLE BABUSHKA ",
         "4",
         "12/1/2010 13:04",
         "4.65",
         "12662.0",
         "Germany"
        ],
        [
         "1119",
         "536527",
         "22969",
         "HOMEMADE JAM SCENTED CANDLES",
         "12",
         "12/1/2010 13:04",
         "1.45",
         "12662.0",
         "Germany"
        ],
        [
         "1120",
         "536527",
         "22973",
         "CHILDREN'S CIRCUS PARADE MUG",
         "12",
         "12/1/2010 13:04",
         "1.65",
         "12662.0",
         "Germany"
        ],
        [
         "1121",
         "536527",
         "84569B",
         "PACK 3 FIRE ENGINE/CAR PATCHES",
         "12",
         "12/1/2010 13:04",
         "1.25",
         "12662.0",
         "Germany"
        ],
        [
         "1122",
         "536527",
         "22549",
         "PICTURE DOMINOES",
         "12",
         "12/1/2010 13:04",
         "1.45",
         "12662.0",
         "Germany"
        ],
        [
         "1123",
         "536527",
         "POST",
         "POSTAGE",
         "1",
         "12/1/2010 13:04",
         "18.0",
         "12662.0",
         "Germany"
        ],
        [
         "6602",
         "536967",
         "POST",
         "POSTAGE",
         "1",
         "12/3/2010 12:57",
         "18.0",
         "12600.0",
         "Germany"
        ],
        [
         "6603",
         "536967",
         "85099B",
         "JUMBO BAG RED RETROSPOT",
         "30",
         "12/3/2010 12:57",
         "1.95",
         "12600.0",
         "Germany"
        ],
        [
         "6965",
         "536983",
         "22331",
         "WOODLAND PARTY BAG + STICKER SET",
         "8",
         "12/3/2010 14:30",
         "1.65",
         "12712.0",
         "Germany"
        ],
        [
         "6966",
         "536983",
         "22865",
         "HAND WARMER OWL DESIGN",
         "12",
         "12/3/2010 14:30",
         "2.1",
         "12712.0",
         "Germany"
        ],
        [
         "6967",
         "536983",
         "22171",
         "3 HOOK PHOTO SHELF ANTIQUE WHITE",
         "4",
         "12/3/2010 14:30",
         "8.5",
         "12712.0",
         "Germany"
        ],
        [
         "6968",
         "536983",
         "22926",
         "IVORY GIANT GARDEN THERMOMETER",
         "4",
         "12/3/2010 14:30",
         "5.95",
         "12712.0",
         "Germany"
        ],
        [
         "6969",
         "536983",
         "22914",
         "BLUE COAT RACK PARIS FASHION",
         "3",
         "12/3/2010 14:30",
         "4.95",
         "12712.0",
         "Germany"
        ],
        [
         "6970",
         "536983",
         "84849D",
         "HOT BATHS SOAP HOLDER",
         "12",
         "12/3/2010 14:30",
         "1.69",
         "12712.0",
         "Germany"
        ],
        [
         "6971",
         "536983",
         "22445",
         "PENCIL CASE LIFE IS BEAUTIFUL",
         "6",
         "12/3/2010 14:30",
         "2.95",
         "12712.0",
         "Germany"
        ],
        [
         "6972",
         "536983",
         "16016",
         "LARGE CHINESE STYLE SCISSOR",
         "10",
         "12/3/2010 14:30",
         "0.85",
         "12712.0",
         "Germany"
        ],
        [
         "6973",
         "536983",
         "POST",
         "POSTAGE",
         "1",
         "12/3/2010 14:30",
         "18.0",
         "12712.0",
         "Germany"
        ],
        [
         "9287",
         "537197",
         "22843",
         "BISCUIT TIN VINTAGE GREEN",
         "2",
         "12/5/2010 14:02",
         "6.75",
         "12647.0",
         "Germany"
        ],
        [
         "9288",
         "537197",
         "22842",
         "BISCUIT TIN VINTAGE RED",
         "2",
         "12/5/2010 14:02",
         "6.75",
         "12647.0",
         "Germany"
        ],
        [
         "9289",
         "537197",
         "22961",
         "JAM MAKING SET PRINTED",
         "12",
         "12/5/2010 14:02",
         "1.45",
         "12647.0",
         "Germany"
        ],
        [
         "9290",
         "537197",
         "22962",
         "JAM JAR WITH PINK LID",
         "12",
         "12/5/2010 14:02",
         "0.85",
         "12647.0",
         "Germany"
        ],
        [
         "9291",
         "537197",
         "22963",
         "JAM JAR WITH GREEN LID",
         "12",
         "12/5/2010 14:02",
         "0.85",
         "12647.0",
         "Germany"
        ],
        [
         "9292",
         "537197",
         "84997D",
         "PINK 3 PIECE POLKADOT CUTLERY SET",
         "6",
         "12/5/2010 14:02",
         "3.75",
         "12647.0",
         "Germany"
        ],
        [
         "9293",
         "537197",
         "22199",
         "FRYING PAN RED RETROSPOT",
         "4",
         "12/5/2010 14:02",
         "4.25",
         "12647.0",
         "Germany"
        ],
        [
         "9294",
         "537197",
         "22200",
         "FRYING PAN PINK POLKADOT",
         "4",
         "12/5/2010 14:02",
         "4.25",
         "12647.0",
         "Germany"
        ],
        [
         "9295",
         "537197",
         "22505",
         "MEMO BOARD COTTAGE DESIGN",
         "4",
         "12/5/2010 14:02",
         "4.95",
         "12647.0",
         "Germany"
        ],
        [
         "9296",
         "537197",
         "22507",
         "MEMO BOARD RETROSPOT  DESIGN",
         "4",
         "12/5/2010 14:02",
         "4.95",
         "12647.0",
         "Germany"
        ],
        [
         "9297",
         "537197",
         "84050",
         "PINK HEART SHAPE EGG FRYING PAN",
         "6",
         "12/5/2010 14:02",
         "1.65",
         "12647.0",
         "Germany"
        ],
        [
         "9298",
         "537197",
         "85055",
         "FRENCH ENAMEL UTENSIL HOLDER",
         "4",
         "12/5/2010 14:02",
         "3.75",
         "12647.0",
         "Germany"
        ],
        [
         "9299",
         "537197",
         "84968A",
         "SET OF 16 VINTAGE ROSE CUTLERY",
         "1",
         "12/5/2010 14:02",
         "12.75",
         "12647.0",
         "Germany"
        ],
        [
         "9300",
         "537197",
         "POST",
         "POSTAGE",
         "3",
         "12/5/2010 14:02",
         "18.0",
         "12647.0",
         "Germany"
        ],
        [
         "9301",
         "537197",
         "22624",
         "IVORY KITCHEN SCALES",
         "2",
         "12/5/2010 14:02",
         "8.5",
         "12647.0",
         "Germany"
        ],
        [
         "9302",
         "537197",
         "22841",
         "ROUND CAKE TIN VINTAGE GREEN",
         "1",
         "12/5/2010 14:02",
         "0.0",
         "12647.0",
         "Germany"
        ],
        [
         "9303",
         "537197",
         "22847",
         "BREAD BIN DINER STYLE IVORY",
         "1",
         "12/5/2010 14:02",
         "16.95",
         "12647.0",
         "Germany"
        ],
        [
         "9304",
         "537198",
         "20685",
         "DOORMAT RED RETROSPOT",
         "10",
         "12/5/2010 14:03",
         "6.75",
         "12647.0",
         "Germany"
        ],
        [
         "9305",
         "537198",
         "POST",
         "POSTAGE",
         "1",
         "12/5/2010 14:03",
         "18.0",
         "12647.0",
         "Germany"
        ],
        [
         "9705",
         "537212",
         "20712",
         "JUMBO BAG WOODLAND ANIMALS",
         "10",
         "12/5/2010 15:21",
         "1.95",
         "12720.0",
         "Germany"
        ],
        [
         "9706",
         "537212",
         "20719",
         "WOODLAND CHARLOTTE BAG",
         "10",
         "12/5/2010 15:21",
         "0.85",
         "12720.0",
         "Germany"
        ],
        [
         "9707",
         "537212",
         "22554",
         "PLASTERS IN TIN WOODLAND ANIMALS",
         "12",
         "12/5/2010 15:21",
         "1.65",
         "12720.0",
         "Germany"
        ],
        [
         "9708",
         "537212",
         "21981",
         "PACK OF 12 WOODLAND TISSUES ",
         "24",
         "12/5/2010 15:21",
         "0.29",
         "12720.0",
         "Germany"
        ],
        [
         "9709",
         "537212",
         "22960",
         "JAM MAKING SET WITH JARS",
         "6",
         "12/5/2010 15:21",
         "4.25",
         "12720.0",
         "Germany"
        ]
       ],
       "shape": {
        "columns": 8,
        "rows": 4180
       }
      },
      "text/html": [
       "<div>\n",
       "<style scoped>\n",
       "    .dataframe tbody tr th:only-of-type {\n",
       "        vertical-align: middle;\n",
       "    }\n",
       "\n",
       "    .dataframe tbody tr th {\n",
       "        vertical-align: top;\n",
       "    }\n",
       "\n",
       "    .dataframe thead th {\n",
       "        text-align: right;\n",
       "    }\n",
       "</style>\n",
       "<table border=\"1\" class=\"dataframe\">\n",
       "  <thead>\n",
       "    <tr style=\"text-align: right;\">\n",
       "      <th></th>\n",
       "      <th>InvoiceNo</th>\n",
       "      <th>StockCode</th>\n",
       "      <th>Description</th>\n",
       "      <th>Quantity</th>\n",
       "      <th>InvoiceDate</th>\n",
       "      <th>UnitPrice</th>\n",
       "      <th>CustomerID</th>\n",
       "      <th>Country</th>\n",
       "    </tr>\n",
       "  </thead>\n",
       "  <tbody>\n",
       "    <tr>\n",
       "      <th>1109</th>\n",
       "      <td>536527</td>\n",
       "      <td>22809</td>\n",
       "      <td>SET OF 6 T-LIGHTS SANTA</td>\n",
       "      <td>6</td>\n",
       "      <td>12/1/2010 13:04</td>\n",
       "      <td>2.95</td>\n",
       "      <td>12662.0</td>\n",
       "      <td>Germany</td>\n",
       "    </tr>\n",
       "    <tr>\n",
       "      <th>1110</th>\n",
       "      <td>536527</td>\n",
       "      <td>84347</td>\n",
       "      <td>ROTATING SILVER ANGELS T-LIGHT HLDR</td>\n",
       "      <td>6</td>\n",
       "      <td>12/1/2010 13:04</td>\n",
       "      <td>2.55</td>\n",
       "      <td>12662.0</td>\n",
       "      <td>Germany</td>\n",
       "    </tr>\n",
       "    <tr>\n",
       "      <th>1111</th>\n",
       "      <td>536527</td>\n",
       "      <td>84945</td>\n",
       "      <td>MULTI COLOUR SILVER T-LIGHT HOLDER</td>\n",
       "      <td>12</td>\n",
       "      <td>12/1/2010 13:04</td>\n",
       "      <td>0.85</td>\n",
       "      <td>12662.0</td>\n",
       "      <td>Germany</td>\n",
       "    </tr>\n",
       "    <tr>\n",
       "      <th>1112</th>\n",
       "      <td>536527</td>\n",
       "      <td>22242</td>\n",
       "      <td>5 HOOK HANGER MAGIC TOADSTOOL</td>\n",
       "      <td>12</td>\n",
       "      <td>12/1/2010 13:04</td>\n",
       "      <td>1.65</td>\n",
       "      <td>12662.0</td>\n",
       "      <td>Germany</td>\n",
       "    </tr>\n",
       "    <tr>\n",
       "      <th>1113</th>\n",
       "      <td>536527</td>\n",
       "      <td>22244</td>\n",
       "      <td>3 HOOK HANGER MAGIC GARDEN</td>\n",
       "      <td>12</td>\n",
       "      <td>12/1/2010 13:04</td>\n",
       "      <td>1.95</td>\n",
       "      <td>12662.0</td>\n",
       "      <td>Germany</td>\n",
       "    </tr>\n",
       "    <tr>\n",
       "      <th>...</th>\n",
       "      <td>...</td>\n",
       "      <td>...</td>\n",
       "      <td>...</td>\n",
       "      <td>...</td>\n",
       "      <td>...</td>\n",
       "      <td>...</td>\n",
       "      <td>...</td>\n",
       "      <td>...</td>\n",
       "    </tr>\n",
       "    <tr>\n",
       "      <th>541726</th>\n",
       "      <td>581570</td>\n",
       "      <td>22139</td>\n",
       "      <td>RETROSPOT TEA SET CERAMIC 11 PC</td>\n",
       "      <td>3</td>\n",
       "      <td>12/9/2011 11:59</td>\n",
       "      <td>4.95</td>\n",
       "      <td>12662.0</td>\n",
       "      <td>Germany</td>\n",
       "    </tr>\n",
       "    <tr>\n",
       "      <th>541727</th>\n",
       "      <td>581570</td>\n",
       "      <td>23077</td>\n",
       "      <td>DOUGHNUT LIP GLOSS</td>\n",
       "      <td>20</td>\n",
       "      <td>12/9/2011 11:59</td>\n",
       "      <td>1.25</td>\n",
       "      <td>12662.0</td>\n",
       "      <td>Germany</td>\n",
       "    </tr>\n",
       "    <tr>\n",
       "      <th>541728</th>\n",
       "      <td>581570</td>\n",
       "      <td>20750</td>\n",
       "      <td>RED RETROSPOT MINI CASES</td>\n",
       "      <td>2</td>\n",
       "      <td>12/9/2011 11:59</td>\n",
       "      <td>7.95</td>\n",
       "      <td>12662.0</td>\n",
       "      <td>Germany</td>\n",
       "    </tr>\n",
       "    <tr>\n",
       "      <th>541729</th>\n",
       "      <td>581570</td>\n",
       "      <td>22505</td>\n",
       "      <td>MEMO BOARD COTTAGE DESIGN</td>\n",
       "      <td>4</td>\n",
       "      <td>12/9/2011 11:59</td>\n",
       "      <td>4.95</td>\n",
       "      <td>12662.0</td>\n",
       "      <td>Germany</td>\n",
       "    </tr>\n",
       "    <tr>\n",
       "      <th>541730</th>\n",
       "      <td>581570</td>\n",
       "      <td>POST</td>\n",
       "      <td>POSTAGE</td>\n",
       "      <td>1</td>\n",
       "      <td>12/9/2011 11:59</td>\n",
       "      <td>18.00</td>\n",
       "      <td>12662.0</td>\n",
       "      <td>Germany</td>\n",
       "    </tr>\n",
       "  </tbody>\n",
       "</table>\n",
       "<p>4180 rows × 8 columns</p>\n",
       "</div>"
      ],
      "text/plain": [
       "       InvoiceNo StockCode                          Description  Quantity  \\\n",
       "1109      536527     22809              SET OF 6 T-LIGHTS SANTA         6   \n",
       "1110      536527     84347  ROTATING SILVER ANGELS T-LIGHT HLDR         6   \n",
       "1111      536527     84945   MULTI COLOUR SILVER T-LIGHT HOLDER        12   \n",
       "1112      536527     22242        5 HOOK HANGER MAGIC TOADSTOOL        12   \n",
       "1113      536527     22244           3 HOOK HANGER MAGIC GARDEN        12   \n",
       "...          ...       ...                                  ...       ...   \n",
       "541726    581570     22139     RETROSPOT TEA SET CERAMIC 11 PC          3   \n",
       "541727    581570     23077                  DOUGHNUT LIP GLOSS         20   \n",
       "541728    581570     20750             RED RETROSPOT MINI CASES         2   \n",
       "541729    581570     22505            MEMO BOARD COTTAGE DESIGN         4   \n",
       "541730    581570      POST                              POSTAGE         1   \n",
       "\n",
       "            InvoiceDate  UnitPrice  CustomerID  Country  \n",
       "1109    12/1/2010 13:04       2.95     12662.0  Germany  \n",
       "1110    12/1/2010 13:04       2.55     12662.0  Germany  \n",
       "1111    12/1/2010 13:04       0.85     12662.0  Germany  \n",
       "1112    12/1/2010 13:04       1.65     12662.0  Germany  \n",
       "1113    12/1/2010 13:04       1.95     12662.0  Germany  \n",
       "...                 ...        ...         ...      ...  \n",
       "541726  12/9/2011 11:59       4.95     12662.0  Germany  \n",
       "541727  12/9/2011 11:59       1.25     12662.0  Germany  \n",
       "541728  12/9/2011 11:59       7.95     12662.0  Germany  \n",
       "541729  12/9/2011 11:59       4.95     12662.0  Germany  \n",
       "541730  12/9/2011 11:59      18.00     12662.0  Germany  \n",
       "\n",
       "[4180 rows x 8 columns]"
      ]
     },
     "execution_count": 64,
     "metadata": {},
     "output_type": "execute_result"
    }
   ],
   "source": [
    "#Фильтрация наблюдений\n",
    "top_retail_germany=retail.loc[retail['CustomerID'].isin(germany_top)]\n",
    "top_retail_germany"
   ]
  },
  {
   "cell_type": "markdown",
   "metadata": {},
   "source": [
    "**7. Сгруппируйте top_retail_germany по коду товара (StockCode). Какой из продуктов добавляли в корзину чаще всего, кроме POST?** \n",
    "\n",
    "Note: одним заказом считается единовременная покупка любого количества товара, т.е. без учета Quantity."
   ]
  },
  {
   "cell_type": "code",
   "execution_count": 89,
   "metadata": {},
   "outputs": [
    {
     "name": "stdout",
     "output_type": "stream",
     "text": [
      "Чаще всего из продуктов добавляли в корзину кроме POST продукт с кодом товара 22326 !!!\n"
     ]
    }
   ],
   "source": [
    "print(f\"Чаще всего из продуктов добавляли в корзину кроме POST продукт с кодом товара\\\n",
    " {top_retail_germany.groupby('StockCode').size().sort_values(ascending=False).index[1]} !!!\")"
   ]
  },
  {
   "cell_type": "markdown",
   "metadata": {},
   "source": [
    "**8. Вернемся к анализу полного датасета retail. Создайте колонку Revenue с суммой покупки, используя колонки Quantity и UnitPrice.**\n",
    "\n",
    "Отфильтрованные данные записаны в retail.\n",
    "\n",
    "**Подсказка**\n",
    "retail['новый_столбец'] = retail.старый_столбец_1 * retail.старый_столбец_2"
   ]
  },
  {
   "cell_type": "code",
   "execution_count": 90,
   "metadata": {},
   "outputs": [
    {
     "data": {
      "text/plain": [
       "0         15.30\n",
       "1         20.34\n",
       "2         22.00\n",
       "3         20.34\n",
       "4         20.34\n",
       "          ...  \n",
       "541904    10.20\n",
       "541905    12.60\n",
       "541906    16.60\n",
       "541907    16.60\n",
       "541908    14.85\n",
       "Name: Ravenue, Length: 531285, dtype: float64"
      ]
     },
     "execution_count": 90,
     "metadata": {},
     "output_type": "execute_result"
    }
   ],
   "source": [
    "retail['Ravenue']=retail.UnitPrice*retail.Quantity\n",
    "retail['Ravenue']"
   ]
  }
 ],
 "metadata": {
  "kernelspec": {
   "display_name": "Python 3",
   "language": "python",
   "name": "python3"
  },
  "language_info": {
   "codemirror_mode": {
    "name": "ipython",
    "version": 3
   },
   "file_extension": ".py",
   "mimetype": "text/x-python",
   "name": "python",
   "nbconvert_exporter": "python",
   "pygments_lexer": "ipython3",
   "version": "3.13.2"
  }
 },
 "nbformat": 4,
 "nbformat_minor": 4
}
